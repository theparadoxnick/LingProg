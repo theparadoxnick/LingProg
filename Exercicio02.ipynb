{
 "cells": [
  {
   "cell_type": "markdown",
   "metadata": {},
   "source": [
    "# Exercício Prático"
   ]
  },
  {
   "cell_type": "markdown",
   "metadata": {},
   "source": [
    "#### Nome: Jan Nicolas Tenorio Vieira Lima\n",
    "#### R.A: 819142318"
   ]
  },
  {
   "cell_type": "markdown",
   "metadata": {},
   "source": [
    "#### 1. Crie um programa que recebe uma lista de números e\n",
    "\n",
    "#### - retorne o maior elemento\n",
    "#### - retorne a soma dos elementos\n",
    "#### - retorne o número de ocorrências do primeiro elemento da lista\n",
    "#### - retorne a média dos elementos\n",
    "#### - retorne o valor mais próximo da média dos elementos\n",
    "#### - retorne a soma dos elementos com valor negativo\n",
    "#### - retorne a quantidade de vizinhos iguais"
   ]
  },
  {
   "cell_type": "code",
   "execution_count": 4,
   "metadata": {},
   "outputs": [
    {
     "ename": "SyntaxError",
     "evalue": "invalid syntax (<ipython-input-4-eee5c6c6bdbd>, line 14)",
     "output_type": "error",
     "traceback": [
      "\u001b[1;36m  File \u001b[1;32m\"<ipython-input-4-eee5c6c6bdbd>\"\u001b[1;36m, line \u001b[1;32m14\u001b[0m\n\u001b[1;33m    print(\"Valor mais próximo da média dos elementos %s\" % for x in lista )\u001b[0m\n\u001b[1;37m                                                             ^\u001b[0m\n\u001b[1;31mSyntaxError\u001b[0m\u001b[1;31m:\u001b[0m invalid syntax\n"
     ]
    }
   ],
   "source": [
    "import math\n",
    "\n",
    "lista = [float(input('Digite um número: ')) for i in range(4)]\n",
    "\n",
    "maior = max(lista)\n",
    "soma = sum(lista)\n",
    "ocorrencia = lista.count(lista[0])\n",
    "media = sum(lista)/ len(lista)\n",
    "\n",
    "print(f'O maior elemento da lista é: {maior}')\n",
    "print(f'A soma dos elementos da lista é: {soma} ')\n",
    "print(f'O número de ocorrencias do primeiro elemento é: {ocorrencia}')\n",
    "print(f'A media dos elementos é: {media}')\n",
    "print(\"Valor mais próximo da média dos elementos %s\" % for x in lista )"
   ]
  },
  {
   "cell_type": "markdown",
   "metadata": {},
   "source": [
    "#### 2. Faça um programa que receba duas listas e retorne True se são iguais ou False caso contrario. Duas listas são iguais se possuem os mesmos valores e na mesma ordem."
   ]
  },
  {
   "cell_type": "code",
   "execution_count": 24,
   "metadata": {},
   "outputs": [
    {
     "name": "stdout",
     "output_type": "stream",
     "text": [
      "Digite dois valores para primeira lista: 1\n",
      "Digite dois valores para primeira lista: 2\n",
      "Digite dois valores para segunda lista: 3\n",
      "Digite dois valores para segunda lista: 4\n",
      "False\n"
     ]
    }
   ],
   "source": [
    "a = [ input('Digite dois valores para primeira lista: ') for i in range(2) ]\n",
    "b = [ input('Digite dois valores para segunda lista: ') for i in range(2) ]\n",
    "\n",
    "if a == b:\n",
    "    print(True)\n",
    "else:\n",
    "    print(False)"
   ]
  },
  {
   "cell_type": "markdown",
   "metadata": {},
   "source": [
    "#### 3. Faça um programa que receba duas listas e retorne True se têm os mesmos elementos ou False caso contrário Duas listas possuem os mesmos elementos quando são compostas pelos mesmos valores, mas não obrigatoriamente na mesma ordem."
   ]
  },
  {
   "cell_type": "code",
   "execution_count": 8,
   "metadata": {
    "scrolled": true
   },
   "outputs": [
    {
     "name": "stdout",
     "output_type": "stream",
     "text": [
      "Digite um valor para incluir na lista: Cenoura\n",
      "Digite um valor para incluir na lista: Azul\n",
      "Digite um valor para incluir na lista: Chinchila\n",
      "Digite um valor para incluir na lista: Capitalismo\n",
      "Digite um valor para incluir na lista: Chinelo\n",
      "Digite um valor para incluir na lista: Papel Crepom\n",
      "Resultado:  ['Cenoura', 'Azul', 'Chinchila']\n"
     ]
    }
   ],
   "source": [
    "lista = [input(\"Digite um valor para incluir na lista: \") for i in range(3)]\n",
    "lista2 = [input(\"Digite um valor para incluir na lista: \") for i in range(3)]\n",
    "\n",
    "result = lista\n",
    "if lista == lista2:\n",
    "    print(\"true\")\n",
    "else:\n",
    "    i=0\n",
    "    for i in lista[:]:\n",
    "        if i in lista2:\n",
    "            result.remove(i)\n",
    "    print(f'Resultado: {result}')"
   ]
  },
  {
   "cell_type": "markdown",
   "metadata": {},
   "source": [
    "#### 4. Faça um programa que percorre uma lista com o seguinte formato: [['Brasil', 'Italia', [10, 9]], ['Brasil', 'Espanha', [5, 7]], ['Italia', 'Espanha', [7,8]]]. Essa lista indica o número de faltas que cada time fez em cada jogo. Na lista acima, no jogo entre Brasil e Itália, o Brasil fez 10 faltas e a Itália fez 9. O programa deve imprimir na tela:\n",
    "#### o total de faltas do campeonato\n",
    "#### o time que fez mais faltas\n",
    "#### o time que fez menos faltas"
   ]
  },
  {
   "cell_type": "code",
   "execution_count": 6,
   "metadata": {
    "scrolled": true
   },
   "outputs": [
    {
     "name": "stdout",
     "output_type": "stream",
     "text": [
      "{'Brasil': 10, 'Italia': 9, 'Espanha': 0}\n",
      "{'Brasil': 15, 'Italia': 9, 'Espanha': 7}\n",
      "{'Brasil': 15, 'Italia': 16, 'Espanha': 15}\n",
      "Total de faltas 46\n",
      "Total de faltas Italia\n",
      "Total de faltas Brasil\n"
     ]
    }
   ],
   "source": [
    "import operator\n",
    "\n",
    "\n",
    "lista =  [['Brasil', 'Italia', [10, 9]], ['Brasil', 'Espanha', [5, 7]], ['Italia', 'Espanha', [7,8]]]\n",
    "\n",
    "dicionario = {\"Brasil\": 0, \"Italia\": 0, \"Espanha\": 0}\n",
    "\n",
    "total_faltas = 0\n",
    "\n",
    "for item in lista:\n",
    "    total_faltas += sum(item[2])\n",
    "    dicionario[item[0]] += item[2][0]\n",
    "    dicionario[item[1]] += item[2][1]\n",
    "    print(dicionario)\n",
    "\n",
    "time_mais_falta = max(dicionario.items(), key=operator.itemgetter(1))[0]\n",
    "time_menos_falta = min(dicionario.items(), key=operator.itemgetter(1))[0]\n",
    "\n",
    "print(f\"Total de faltas {total_faltas}\")\n",
    "print(f\"Total de faltas {time_mais_falta}\")\n",
    "print(f\"Total de faltas {time_menos_falta}\")"
   ]
  },
  {
   "cell_type": "markdown",
   "metadata": {},
   "source": [
    "#### 5. Escreva um programa que conta a quantidade de vogais em uma string e armazena tal quantidade em um dicionário, onde a chave é a vogal considerada."
   ]
  },
  {
   "cell_type": "code",
   "execution_count": 5,
   "metadata": {},
   "outputs": [
    {
     "name": "stdout",
     "output_type": "stream",
     "text": [
      "Digite uma palavra: Esquilos\n",
      "{'a': 0, 'e': 0, 'i': 1, 'o': 1, 'u': 1}\n"
     ]
    }
   ],
   "source": [
    "import string \n",
    "\n",
    "palavra  = input(\"Digite uma palavra: \")\n",
    "vogal = ['a', 'e', 'i', 'o', 'u']\n",
    "\n",
    "dicionario = {'a': 0, 'e': 0, 'i':0, 'o': 0, 'u': 0}\n",
    "\n",
    "for letra in palavra:\n",
    "    if letra in vogal:\n",
    "        dicionario[letra] = dicionario[letra] + 1\n",
    "print(dicionario)"
   ]
  },
  {
   "cell_type": "markdown",
   "metadata": {},
   "source": [
    "#### 6. Escreva um programa que lê̂ duas notas de vários alunos e armazena tais notas em um dicionário, onde a chave é o nome do aluno. A entrada de dados deve terminar quando for lida uma string vazia como nome. Escreva uma função que retorna a média do aluno, dado seu nome."
   ]
  },
  {
   "cell_type": "code",
   "execution_count": 7,
   "metadata": {
    "scrolled": true
   },
   "outputs": [
    {
     "name": "stdout",
     "output_type": "stream",
     "text": [
      "Digite o nome e as duas notas do alunx separado por vírgula: Nick,8,9\n",
      "A média do aluno(a) Nick é 8.5 \n"
     ]
    }
   ],
   "source": [
    "\n",
    "texto = input('Digite o nome e as duas notas do alunx separado por vírgula: ')\n",
    "texto = texto.split(\";\")\n",
    "\n",
    "notas = {}\n",
    "count = 0 \n",
    "\n",
    "for n in texto:\n",
    "    nota = n.split(\",\")\n",
    "    notas[nota[0]] = {\"nota1\": nota[1], \"nota2\": nota[2]}\n",
    "    \n",
    "for n in notas: \n",
    "    media = (int(notas[n]['nota1']) + int(notas[n]['nota2']))/2\n",
    "    print(\"A média do aluno(a) {} é {} \" .format(n, media))"
   ]
  },
  {
   "cell_type": "markdown",
   "metadata": {},
   "source": [
    "#### 7. Uma pista de Kart permite 10 voltas para cada um de 6 corredores. Escreva um programa que leia todos os tempos em segundos e os guarde em um dicionário, onde a chave é o nome do corredor. Ao final diga de quem foi a melhor volta da prova e em que volta; e ainda a classificação final em ordem (1o o campeão). O campeão é o que tem a menor média de tempos."
   ]
  },
  {
   "cell_type": "code",
   "execution_count": null,
   "metadata": {},
   "outputs": [],
   "source": [
    "i = 0\n",
    "while(i  <= 6):\n",
    "         voltas  =  input(\"Digite os valores de voltas: 'Piloto':[2,6,8,1] \")\n",
    "         dic = dict(x.split() for x in voltas.splitlines())\n",
    "\n",
    "print(dic)"
   ]
  },
  {
   "cell_type": "markdown",
   "metadata": {},
   "source": [
    "#### 8. Escreva um programa para armazenar uma agenda de telefones em um dicionário. Cada pessoa pode ter um ou mais telefones e a chave do dicionário é o nome da pessoa. Seu programa deve ter as seguintes funções:\n",
    "\n",
    "#### incluirNovoNome – essa função acrescenta um novo nome na agenda, com um ou mais telefones. Ela deve receber como argumentos o nome e os telefones.\n",
    "#### incluirTelefone – essa função acrescenta um telefone em um nome existente na agenda. Caso o nome não exista na agenda, você̂ deve perguntar se a pessoa deseja inclui-lo. Caso a resposta seja afirmativa, use a função anterior para incluir o novo nome.\n",
    "#### excluirTelefone – essa função exclui um telefone de uma pessoa que já está na agenda. Se a pessoa tiver apenas um telefone, ela deve ser excluída da agenda.\n",
    "#### excluirNome – essa função exclui uma pessoa da agenda.\n",
    "#### consultarTelefone – essa função retorna os telefones de uma pessoa na agenda."
   ]
  },
  {
   "cell_type": "code",
   "execution_count": null,
   "metadata": {},
   "outputs": [],
   "source": [
    "agenda = {}\n",
    "\n",
    "def incluirNome(nome, telefones):\n",
    "    agenda[nome] = telefones\n",
    "    \n",
    "def incluirTelefone(nome, telefone):\n",
    "    if nome in agenda.keys():\n",
    "        agenda[nome].append(telefone)\n",
    "    elif input(\"Essa pessoa não existe\")\n",
    "        incluirNovoNome(nome, [telefone])\n",
    "\n",
    "def excluirTelefone(nome, telefone):\n",
    "    if nome in agenda.keys():\n",
    "        if len(agenda[nome]) == 1:\n",
    "            del agenda[nome]\n",
    "        else:\n",
    "            agenda[nome].remove(telefone)\n",
    "\n",
    "def excluirNome(nome):\n",
    "    del agenda[nome]\n",
    "\n",
    "def consultarTelefone(nome):\n",
    "    return agenda[nome]\n",
    "\n",
    "id = -1\n",
    "while id != 0:\n",
    "    \n",
    "    id = int(input(\"\\nEscolha uma opção: \\n1 - Incluir Novo Nome\\n2 - Incluir Telefone\\n3 - Excluir Telefone\\n4 - Excluir Nome \\n5 - Consultar Agenda\\n0 - Encerrar Programa\\n\"))\n",
    "    \n",
    "    if id == 1 or \"s\":\n",
    "        nome = input(\"Insira o nome da pessoa: \")\n",
    "        telefone  = input(\"Insira um telefone da pessoa: \")\n",
    "        incluirNome(nome, telefone)            \n",
    "    elif id == 2:\n",
    "        incluirTelefone(input(\"Insira o nome da pessoa: \"), input(\"Insira um novo telefone da pessoa: \"))\n",
    "    elif id == 3:\n",
    "        excluirTelefone(input(\"Insira o nome da pessoa: \"), input(\"Insira o telefone da pessoa a qual deseja excluir: \"))\n",
    "    elif id == 4:\n",
    "        excluirNome(input(\"Insira o nome da pessoa: \"))\n",
    "    elif id == 5:\n",
    "        print(consultarTelefone(input(\"Insira o nome da pessoa: \")))"
   ]
  },
  {
   "cell_type": "markdown",
   "metadata": {},
   "source": [
    "#### 9. Faça um programa que leia um arquivo texto contendo uma lista de endereços IP e gere um outro arquivo, contendo um relatório dos endereços IP válidos e inválidos. O arquivo de entrada possui o seguinte formato: 200.135.80.9 192.168.1.1 8.35.67.74 257.32.4.5 85.345.1.2 1.2.3.4 9.8.234.5 192.168.0.256 O arquivo de saída possui o seguinte formato: [Endereços válidos:] 200.135.80.9 192.168.1.1 8.35.67.74 1.2.3.4 [Endereços inválidos:] 257.32.4.5 85.345.1.2 9.8.234.5 192.168.0.256"
   ]
  },
  {
   "cell_type": "code",
   "execution_count": 5,
   "metadata": {},
   "outputs": [
    {
     "name": "stdout",
     "output_type": "stream",
     "text": [
      "Digite uma frase aleatória:Não confie em esquilos\n",
      "Digite outra frase aleatória:A resposta para a vida o universo e tudo mais é 42\n",
      "String 1: Não confie em esquilos\n",
      "String 2: A resposta para a vida o universo e tudo mais é 42\n",
      "Tamanho da primeira frase é de 'Não confie em esquilos: 22\n",
      "Tamanho da segunda frase é de 'A resposta para a vida o universo e tudo mais é 42: 50'\n",
      "As duas strings são de tamanhos diferentes.\n",
      "As duas strings possuem conteúdo diferente.\n"
     ]
    }
   ],
   "source": [
    "import socket\n",
    "\n",
    "ipsValidos = []\n",
    "ipsInvalidos = []\n",
    "\n",
    "ips = open(\"ips.txt\")\n",
    "for ip in ips:\n",
    "    try:\n",
    "        socket.inet_aton(ip)\n",
    "        # Validos\n",
    "        ipsValidos.append(ip)\n",
    "    except socket.error:\n",
    "        # Invalidos\n",
    "        ipsInvalidos.append(ip)\n",
    "        \n",
    "ips.close()\n",
    "\n",
    "saida = open(\"ipsvalidados.txt\", \"w+\")\n",
    "\n",
    "saida.write(\"[Endereços válidos:]\\n\")\n",
    "for ip in ipsValidos:\n",
    "    saida.write(ip)\n",
    "    \n",
    "saida.write(\"[Endereços inválidos:]\\n\")\n",
    "for ip in ipsInvalidos:\n",
    "    saida.write(ip)\n",
    "    \n",
    "saida.close()"
   ]
  },
  {
   "cell_type": "markdown",
   "metadata": {},
   "source": [
    "#### 10. A ACME Inc., uma empresa de 500 funcionários, está tendo problemas de espaço em disco no seu servidor de arquivos. Para tentar resolver este problema, o Administrador de Rede precisa saber qual o espaço ocupado pelos usuários, e identificar os usuários com maior espaço ocupado. Através de um programa, baixado da Internet, ele conseguiu gerar o seguinte arquivo, chamado \"usuarios.txt\": alexandre 456123789 anderson 1245698456 antonio 123456456 carlos 91257581 cesar 987458 rosemary 789456125 Neste arquivo, o nome do usuário possui 15 caracteres. A partir deste arquivo, você deve criar um programa que gere um relatório, chamado \"relatório.txt\", no seguinte formato:\n",
    "\n",
    "### ACME Inc. Uso do espaço em disco pelos usuários\n",
    "\n",
    "#### Nr. Usuário Espaço utilizado % do uso 1 alexandre 434,99 MB 16,85% 2 anderson 1187,99 MB 46,02% 3 antonio 117,73 MB 4,56% 4 carlos 87,03 MB 3,37% 5 cesar 0,94 MB 0,04% 6 rosemary 752,88 MB 29,16% Espaço total ocupado: 2581,57 MB Espaço médio ocupado: 430,26 MB O arquivo de entrada deve ser lido uma única vez, e os dados armazenados em memória, caso sejam necessários, de forma a agilizar a execução do programa. A conversão da espaço ocupado em disco, de bytes para megabytes deverá ser feita através de uma função separada, que será chamada pelo programa principal. O cálculo do percentual de uso também deverá ser feito através de uma função, que será chamada pelo programa principal."
   ]
  },
  {
   "cell_type": "code",
   "execution_count": null,
   "metadata": {},
   "outputs": [],
   "source": [
    "def toMB(tamanhoEmBytes):\n",
    "   tamanhoEmBytes = float(tamanhoEmBytes)\n",
    "   return (float(tamanhoEmBytes/(1024*1024)))\n",
    "   \n",
    "def percentualPorUsuario(lista, total):\n",
    "   percentual = (lista[3]/total)*100\n",
    "   #percentual = \"{0:.2f}\".format(percentual)\n",
    "   lista.insert((len(cadaUsuario)),percentual)\n",
    "\n",
    "def espacoMedioOcupado(lista, total):\n",
    "   media = 0\n",
    "   elementos = len(lista)\n",
    "   media = (total)/(elementos+1)\n",
    "   #media = \"{0:.2f}\".format(media)\n",
    "   return media\n",
    "\n",
    "usuarios = []\n",
    "posicao = 1\n",
    "total = media = 0\n",
    "with open (\"usuarios.txt\",\"r\") as arquivo:\n",
    "   valor = 0\n",
    "   for linha in arquivo:\n",
    "      usuarios.append(linha.split()) \n",
    "\n",
    "   for cadaUsuario in usuarios:\n",
    "      cadaUsuario.insert(0,posicao)\n",
    "      valor = toMB(float(cadaUsuario[2]))\n",
    "      total += valor\n",
    "      cadaUsuario.insert((len(cadaUsuario)),valor)\n",
    "      posicao+=1\n",
    "\n",
    "   for cadaUsuario in usuarios:\n",
    "      percentualPorUsuario(cadaUsuario, total)\n",
    "\n",
    "media = espacoMedioOcupado(cadaUsuario,total)\n",
    "\n",
    "with open (\"relatorio.txt\",\"w\") as arquivo:\n",
    "   arquivo.write(\"ACME Inc.               Uso do espaço em disco pelos usuários.\\n\")\n",
    "   arquivo.write(\"--------------------------------------------------------------\\n\")\n",
    "   arquivo.write(\"Nr.\\tUsuário        \\tEspaço utilizado\\t% do uso\\n\\n\")\n",
    "\n",
    "   for cadaUsuario in usuarios:\n",
    "      percentagem=\"{0:.2f}\".format(round(cadaUsuario[3],2))\n",
    "      arquivo.write(str(cadaUsuario[0])+'\\t'+\"{:<15}\".format(cadaUsuario[1])+'\\t'+\"{:<16}\".format(percentagem)+'MB'+'\\t'+\"{0:.2f}\".format(cadaUsuario[4])+'%'+'\\n')\n",
    "\n",
    "   arquivo.write('\\n\\nEspaço Total Ocupado: ' + \"{0:.2f}\".format(total) + ' MB')\n",
    "   arquivo.write('\\n\\nEspaço médio Ocupado: ' + \"{0:.2f}\".format(media) + ' MB')\n",
    "   arquivo.close()\n",
    "\n",
    "with open (\"relatorio.txt\",\"r\") as arquivo:\n",
    "   print(arquivo.read())"
   ]
  },
  {
   "cell_type": "code",
   "execution_count": null,
   "metadata": {},
   "outputs": [],
   "source": []
  }
 ],
 "metadata": {
  "kernelspec": {
   "display_name": "Python 3",
   "language": "python",
   "name": "python3"
  },
  "language_info": {
   "codemirror_mode": {
    "name": "ipython",
    "version": 3
   },
   "file_extension": ".py",
   "mimetype": "text/x-python",
   "name": "python",
   "nbconvert_exporter": "python",
   "pygments_lexer": "ipython3",
   "version": "3.7.4"
  }
 },
 "nbformat": 4,
 "nbformat_minor": 2
}
