{
 "cells": [
  {
   "cell_type": "markdown",
   "metadata": {},
   "source": [
    "# Exercício Prático 04"
   ]
  },
  {
   "cell_type": "markdown",
   "metadata": {},
   "source": [
    "### Nome: Jan Nicolas Tenorio Vieira Lima\n",
    "### R.A: 819142318"
   ]
  },
  {
   "cell_type": "markdown",
   "metadata": {},
   "source": [
    "1. Menor de dois pares: Escreva uma função que retorne o menor de dois números dados se ambos os números forem pares, mas retorna o maior se um dos dois for ímpar. Exemplo:\n",
    "menor_de_dois_pares(2,4) --> 2\n",
    "menor_de_dois_pares (2,5) --> 5\n"
   ]
  },
  {
   "cell_type": "code",
   "execution_count": 3,
   "metadata": {},
   "outputs": [
    {
     "name": "stdout",
     "output_type": "stream",
     "text": [
      "7\n",
      "4\n"
     ]
    }
   ],
   "source": [
    "def menorDeDoisPares(n1, n2):\n",
    "    if n1 % 2 == 0 and n2 % 2 ==0:\n",
    "        if n1 > n2:\n",
    "            print(n2)\n",
    "        else:\n",
    "            print(n1)\n",
    "    else:\n",
    "        if n1 > n2:\n",
    "            print(n1)\n",
    "        else:\n",
    "            print(n2)  \n",
    "     \n",
    "menorDeDoisPares(4,8)"
   ]
  },
  {
   "cell_type": "markdown",
   "metadata": {},
   "source": [
    "2. Mesma letra: Escreva uma função que receba uma string com duas palavras e retorne True se ambas palavras começarem com a mesma letra. Exemplo:\n",
    " \n",
    "mesma_letra('Cão covarde') -> True\n",
    "mesma_letra('Vira Lata') -> False\n"
   ]
  },
  {
   "cell_type": "code",
   "execution_count": 4,
   "metadata": {},
   "outputs": [
    {
     "data": {
      "text/plain": [
       "True"
      ]
     },
     "execution_count": 4,
     "metadata": {},
     "output_type": "execute_result"
    }
   ],
   "source": [
    "def mesma_letra(palavra):\n",
    "    \n",
    "    partes = palavra.split(\" \");\n",
    "    if partes[0][0].upper() == partes[1][0].upper():\n",
    "        return True\n",
    "    return False\n",
    "\n",
    "mesma_letra(\"Cão covarde\")"
   ]
  },
  {
   "cell_type": "markdown",
   "metadata": {},
   "source": [
    "3. Mestre Yoda: Dada uma sentença, a função deve retornar a sentença com as palavras na ordem reversa. Exemplo:\n",
    " \n",
    "mestre_yoda('Eu estou em casa') --> 'casa em estou Eu'\n",
    "mestre_yoda('Estamos prontos') --> 'prontos Estamos'\n"
   ]
  },
  {
   "cell_type": "code",
   "execution_count": 5,
   "metadata": {
    "scrolled": true
   },
   "outputs": [
    {
     "name": "stdout",
     "output_type": "stream",
     "text": [
      "prontos estamos\n"
     ]
    }
   ],
   "source": [
    "def mestre_yoda(sentenca):\n",
    "    \n",
    "    return ' '.join(sorted(sentenca.split(\" \"),reverse=True))\n",
    "\n",
    "print(mestre_yoda('estamos prontos'))"
   ]
  },
  {
   "cell_type": "markdown",
   "metadata": {},
   "source": [
    "4. Tem 33: Faça uma função que retorne True se, dada uma lista de inteiros, houver em alguma posição da lista um 3 do lado de outro 3. Exemplo:\n",
    "\n",
    "tem_33([1,3,3]) --> True\n",
    "tem_33([1,3,1,3]) --> False\n",
    "tem_33([3,1,3]) --> False"
   ]
  },
  {
   "cell_type": "code",
   "execution_count": 6,
   "metadata": {},
   "outputs": [
    {
     "name": "stdout",
     "output_type": "stream",
     "text": [
      "Sim, ele esta aqui\n",
      "Sim, ele esta aqui\n"
     ]
    }
   ],
   "source": [
    "def acha_perdido (lista):\n",
    "    estado = 'nada'\n",
    "    for n in lista:\n",
    "        if n == 3 and estado == 'nada':\n",
    "            estado = '3'\n",
    "        elif n == 3 and estado == '3':\n",
    "            estado = '33'\n",
    "            print (\"Sim, ele esta aqui\")\n",
    "            break\n",
    "        elif estado == '3' and n !=3:\n",
    "            estado = 'nada'\n",
    "        \n",
    "acha_perdido([0,1,2,0,3,3,5]) \n",
    "acha_perdido([1,3,3,2,4,4,7])"
   ]
  },
  {
   "cell_type": "markdown",
   "metadata": {},
   "source": [
    "5. Blackjack: Faça uma função que receba 3 inteiros entre 1 e 11. Se a soma deles for menor que 21, retorne o valor da soma. Se for mair do que 21 e houver um 11, subtraia 10 da soma antes de apresentar o resultado. Se o valor da soma passar de 21, retorne ‘ESTOUROU’. Exemplo:\n",
    "\n",
    "blackjack(5,6,7) --> 18\n",
    "blackjack(9,9,9) --> 'ESTOUROU'\n",
    "blackjack(9,9,11) --> 19"
   ]
  },
  {
   "cell_type": "code",
   "execution_count": 7,
   "metadata": {},
   "outputs": [
    {
     "name": "stdout",
     "output_type": "stream",
     "text": [
      "18\n",
      "('ESTOUROU', 27)\n",
      "19\n"
     ]
    }
   ],
   "source": [
    "def blackjack(n1, n2, n3):\n",
    "    soma=n1 + n2 + n3\n",
    "    if soma <= 21:\n",
    "        return soma\n",
    "    else:\n",
    "        if 11 in [n1, n2, n3]:\n",
    "            return soma - 10\n",
    "        return ('ESTOUROU',soma)\n",
    "\n",
    "print(blackjack(5,6,7))\n",
    "print(blackjack(9,9,9))\n",
    "print(blackjack(9,9,11))"
   ]
  },
  {
   "cell_type": "markdown",
   "metadata": {},
   "source": [
    "6. Espião: Escreva uma função que receba uma lista de inteiros e retorne True se contém um 007 em ordem, mesmo que não contínuo. Exemplo:\n",
    "\n",
    "espiao([1,2,4,0,0,7,5]) --> True\n",
    "espiao([1,0,2,4,0,5,7]) --> True\n",
    "espiao([1,7,2,4,0,5,0]) --> False"
   ]
  },
  {
   "cell_type": "code",
   "execution_count": 8,
   "metadata": {},
   "outputs": [
    {
     "name": "stdout",
     "output_type": "stream",
     "text": [
      "True\n",
      "True\n",
      "False\n"
     ]
    }
   ],
   "source": [
    "def espiao(lista):\n",
    "    estado=\"nada\"\n",
    "    for simbolo in lista:\n",
    "        if simbolo == 0:\n",
    "            if estado == \"nada\":\n",
    "                estado = \"zero\"\n",
    "            elif estado == \"zero\":\n",
    "                estado = \"zero zero\"\n",
    "        elif simbolo == 7:\n",
    "            if estado == \"zero zero\":\n",
    "                estado = \"zero zero sete\"\n",
    "                return True\n",
    "            else:\n",
    "                return False\n",
    "\n",
    "\n",
    "\n",
    "\n",
    "print(espiao([1,2,4,0,0,7,5]))\n",
    "print(espiao([1,0,2,4,0,5,7]))\n",
    "print(espiao([1,7,2,4,0,5,0]))"
   ]
  },
  {
   "cell_type": "code",
   "execution_count": null,
   "metadata": {},
   "outputs": [],
   "source": []
  }
 ],
 "metadata": {
  "kernelspec": {
   "display_name": "Python 3",
   "language": "python",
   "name": "python3"
  },
  "language_info": {
   "codemirror_mode": {
    "name": "ipython",
    "version": 3
   },
   "file_extension": ".py",
   "mimetype": "text/x-python",
   "name": "python",
   "nbconvert_exporter": "python",
   "pygments_lexer": "ipython3",
   "version": "3.7.4"
  }
 },
 "nbformat": 4,
 "nbformat_minor": 2
}
