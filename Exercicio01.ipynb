{
 "cells": [
  {
   "cell_type": "markdown",
   "metadata": {},
   "source": [
    "# Exercício Prático 1"
   ]
  },
  {
   "cell_type": "markdown",
   "metadata": {},
   "source": [
    "### Nome: Jan Nicolas Tenorio Vieira Lima\n",
    "### R.A: 819142318"
   ]
  },
  {
   "cell_type": "markdown",
   "metadata": {},
   "source": [
    "#### 1. Faça um Programa que peça o raio de um círculo, calcule e mostre sua área."
   ]
  },
  {
   "cell_type": "code",
   "execution_count": 18,
   "metadata": {},
   "outputs": [
    {
     "name": "stdout",
     "output_type": "stream",
     "text": [
      "Digite o valor do raio:3\n",
      "O valor da área do círculo é: 31.006276680299816\n"
     ]
    }
   ],
   "source": [
    "import math\n",
    "pi = math.pi\n",
    "r = float(input('Digite o valor do raio:'))\n",
    "A = pi * r ** 2\n",
    "print(f'O valor da área do círculo é: {A}')"
   ]
  },
  {
   "cell_type": "markdown",
   "metadata": {},
   "source": [
    "#### 2. Faça um Programa que calcule a área de um quadrado, em seguida mostre o dobro"
   ]
  },
  {
   "cell_type": "code",
   "execution_count": null,
   "metadata": {},
   "outputs": [],
   "source": [
    "lado = int(input('Digite o tamanho do lado:'))\n",
    "A = lado * 2\n",
    "print(f'O valor da área do quadrado é: {A}')"
   ]
  },
  {
   "cell_type": "markdown",
   "metadata": {},
   "source": [
    "#### 3. Faça um Programa que pergunte quanto você ganha por hora e o número de horas trabalhadas no mês. Calcule e mostre o total do seu salário no referido mês."
   ]
  },
  {
   "cell_type": "code",
   "execution_count": 22,
   "metadata": {
    "scrolled": true
   },
   "outputs": [
    {
     "name": "stdout",
     "output_type": "stream",
     "text": [
      "Digite quanto você ganha por hora:100\n",
      "Digite as horas que você trabalhou nesse mês:40\n",
      "O total do salario é: R$ 4000.0\n"
     ]
    }
   ],
   "source": [
    "valorHora = float(input('Digite quanto você ganha por hora:'))\n",
    "hora = int(input('Digite as horas que você trabalhou nesse mês:'))\n",
    "total = salario * valorHora\n",
    "print(f'O total do salario é: R$ {total}')"
   ]
  },
  {
   "cell_type": "markdown",
   "metadata": {},
   "source": [
    "#### 4. Faça um Programa que peça a temperatura em graus Farenheit, transforme e mostre a temperatura em graus Celsius. C = (5 * (F-32) / 9)."
   ]
  },
  {
   "cell_type": "code",
   "execution_count": 6,
   "metadata": {
    "scrolled": true
   },
   "outputs": [
    {
     "name": "stdout",
     "output_type": "stream",
     "text": [
      "Digite a temperatura em Farenheit:10\n",
      "O valor em Celcius é: -12.222222222222221\n"
     ]
    }
   ],
   "source": [
    "F = int(input('Digite a temperatura em Farenheit:'))\n",
    "C = (5 * (F - 32) / 9)\n",
    "print(f'O valor em Celcius é: {C}ºC')"
   ]
  },
  {
   "cell_type": "markdown",
   "metadata": {},
   "source": [
    "#### 5. Faça um Programa que peça a temperatura em graus Celsius, transforme e mostre em graus Farenheit."
   ]
  },
  {
   "cell_type": "code",
   "execution_count": 24,
   "metadata": {},
   "outputs": [
    {
     "name": "stdout",
     "output_type": "stream",
     "text": [
      "Digite a temperatura em Celsius:0\n",
      "O valor da temperatura em Farenheit é: 32ºF\n"
     ]
    }
   ],
   "source": [
    "C = int(input('Digite a temperatura em Celsius:'))\n",
    "F = (C * (9 // 5)) + 32\n",
    "print(f'O valor da temperatura em Farenheit é: {F}ºF')"
   ]
  },
  {
   "cell_type": "markdown",
   "metadata": {},
   "source": [
    "#### 6. Faça um Programa que peça 2 números inteiros e um número real. Calcule e mostre:\n",
    "#### - o produto do dobro do primeiro com metade do segundo .\n",
    "#### - a soma do triplo do primeiro com o terceiro.\n",
    "#### - o terceiro elevado ao cubo."
   ]
  },
  {
   "cell_type": "code",
   "execution_count": 7,
   "metadata": {
    "scrolled": true
   },
   "outputs": [
    {
     "name": "stdout",
     "output_type": "stream",
     "text": [
      "Digite o valor inteiro de a:10\n",
      "Digite o valor inteiro de b:4\n",
      "Digite o valor real de c:6\n",
      "O valor da expressão X é: 40\n",
      "O valor da expressão Y é: 36.0\n",
      "O valor da expressão Z é: 216.0\n"
     ]
    }
   ],
   "source": [
    "a = int(input('Digite o valor inteiro de a:'))\n",
    "b = int(input('Digite o valor inteiro de b:'))\n",
    "c = float(input('Digite o valor real de c:'))\n",
    "\n",
    "x = (2 * a) * (b // 2)\n",
    "y = (3 * a) + c\n",
    "z = c ** 3\n",
    "\n",
    "print(f'O produto do dobro do primeiro com metade do segundo é: {x}')\n",
    "print(f'A soma do triplo do primeiro com o terceiro. é: {y}')\n",
    "print(f'O terceiro elevado ao cubo: {z}')\n",
    "\n"
   ]
  },
  {
   "cell_type": "markdown",
   "metadata": {},
   "source": [
    "#### 7. João Papo-de-Pescador, homem de bem, comprou um microcomputador para controlar o rendimento diário de seu trabalho. Toda vez que ele traz um peso de peixes maior que o estabelecido pelo regulamento de pesca do estado de São Paulo (50 quilos) deve pagar uma multa de 4,00 reais por quilo excedente. João precisa que você faça um programa que leia a variável peso (peso de peixes) e verifique se há excesso. Se houver, gravar na variável excesso e na variável multa o valor da multa que João deverá pagar. Caso contrário mostrar tais variáveis com o conteúdo ZERO.por quilo excedente. João precisa que você faça um programa que leia a variável peso (peso de peixes) e verifique se há excesso. Se houver, gravar na variável excesso e na variável multa o valor da multa que João deverá pagar. Caso contrário mostrar tais variáveis com o conteúdo ZERO."
   ]
  },
  {
   "cell_type": "code",
   "execution_count": 1,
   "metadata": {},
   "outputs": [
    {
     "name": "stdout",
     "output_type": "stream",
     "text": [
      "Digite o peso em kg de carne de peixe:65\n",
      "A multa é de R$ 4 pois houve um excesso de 15.0kgs de peixes.\n"
     ]
    }
   ],
   "source": [
    "multa = 4\n",
    "excesso = 0\n",
    "taxa = 0\n",
    "peso = float(input('Digite o peso em kg de carne de peixe:'))\n",
    "if peso > 50:\n",
    "    excesso = peso - 50\n",
    "    taxa = multa * excesso\n",
    "\n",
    "print(f'A multa é de R$ {multa} pois houve um excesso de {excesso}kgs de peixes.')"
   ]
  },
  {
   "cell_type": "markdown",
   "metadata": {},
   "source": [
    "#### 8. Faça um Programa que pergunte quanto você ganha por hora e o número de horas trabalhadas no mês. Calcule e mostre o total do seu salário no referido mês, sabendo-se que são descontados 11% para o Imposto de Renda, 8% para o INSS e 5% para o sindicato, faça um programa que nos dê:\n",
    "#### - salário bruto.\n",
    "#### - quanto pagou ao INSS.\n",
    "#### - quanto pagou ao sindicato.\n",
    "#### - o salário líquido.\n",
    "#### - calcule os descontos e o salário líquido, conforme a tabela abaixo:\n",
    "#### + Salário Bruto : RS\n",
    "#### - IR (11%) : RS\n",
    "#### - INSS (8%) : RS\n",
    "#### - Sindicato ( 5%) : RS\n",
    "#### = Salário Liquido : RS\n",
    "#### Obs.: Salário Bruto - Descontos = Salário Líquido."
   ]
  },
  {
   "cell_type": "code",
   "execution_count": 1,
   "metadata": {},
   "outputs": [
    {
     "name": "stdout",
     "output_type": "stream",
     "text": [
      "Digite o valor por hora:120\n",
      "Digite o número de horas trabalhadas:40\n",
      "+ Salário Bruto: R$ 4800.0\n",
      "- IR (11%): R$ 528.0\n",
      "- INSS (8%): R$ 384.0\n",
      "- Sindicato (5%): R$ 240.0\n",
      "= Salário: R$ 3648.0\n"
     ]
    }
   ],
   "source": [
    "valorHora = float(input('Digite o valor por hora:'))\n",
    "hora = int(input('Digite o número de horas trabalhadas:'))\n",
    "valorTotal = valorHora * hora\n",
    "impostoRenda = valorTotal * 0.11\n",
    "inss = valorTotal * 0.08\n",
    "sindicato = valorTotal * 0.05\n",
    "liquido = valorTotal - impostoRenda - inss - sindicato\n",
    "\n",
    "print(f'+ Salário Bruto: R$ {valorTotal}')\n",
    "print(f'- IR (11%): R$ {impostoRenda}')\n",
    "print(f'- INSS (8%): R$ {inss}')\n",
    "print(f'- Sindicato (5%): R$ {sindicato}')\n",
    "print(f'= Salário: R$ {liquido}')"
   ]
  },
  {
   "cell_type": "markdown",
   "metadata": {},
   "source": [
    "#### 9. Faça um programa que leia 2 strings e informe o conteúdo delas seguido do seu comprimento. Informe também se as duas strings possuem o mesmo comprimento e são iguais ou diferentes no conteúdo.\n",
    "#### Exemplo:\n",
    "#### String 1: Brasil Hexa 2018\n",
    "#### String 2: Brasil! Hexa 2018!\n",
    "#### Tamanho de \"Brasil Hexa 2018\": 16 caracteres\n",
    "#### Tamanho de \"Brasil! Hexa 2018!\": 18 caracteres\n",
    "#### As duas strings são de tamanhos diferentes.\n",
    "#### As duas strings possuem conteúdo diferente."
   ]
  },
  {
   "cell_type": "code",
   "execution_count": 5,
   "metadata": {},
   "outputs": [
    {
     "name": "stdout",
     "output_type": "stream",
     "text": [
      "Digite uma frase aleatória:Não confie em esquilos\n",
      "Digite outra frase aleatória:A resposta para a vida o universo e tudo mais é 42\n",
      "String 1: Não confie em esquilos\n",
      "String 2: A resposta para a vida o universo e tudo mais é 42\n",
      "Tamanho da primeira frase é de 'Não confie em esquilos: 22\n",
      "Tamanho da segunda frase é de 'A resposta para a vida o universo e tudo mais é 42: 50'\n",
      "As duas strings são de tamanhos diferentes.\n",
      "As duas strings possuem conteúdo diferente.\n"
     ]
    }
   ],
   "source": [
    "string1 = input('Digite uma frase aleatória:')\n",
    "string2 = input('Digite outra frase aleatória:')\n",
    "\n",
    "print(f'String 1: {string1}')\n",
    "print(f'String 2: {string2}')\n",
    "print(\"Tamanho da primeira frase é de '%s: %s\" % (string1, len(string1)))\n",
    "print(\"Tamanho da segunda frase é de '%s: %s'\" % (string2, len(string2)))\n",
    "\n",
    "if (len(string1), len(string2)):\n",
    "    print(\"As duas strings são de tamanhos diferentes.\")\n",
    "if (string1 != string2):\n",
    "    print(\"As duas strings possuem conteúdo diferente.\")"
   ]
  },
  {
   "cell_type": "markdown",
   "metadata": {},
   "source": [
    "#### 10. Faça um programa que permita ao usuário digitar o seu nome e em seguida mostre o nome do usuário de trás para frente utilizando somente letras maiúsculas. Dica: lembre−se que ao informar o nome o usuário pode digitar letras maiúsculas ou minúsculas. Observação: não use loops."
   ]
  },
  {
   "cell_type": "code",
   "execution_count": 6,
   "metadata": {},
   "outputs": [
    {
     "name": "stdout",
     "output_type": "stream",
     "text": [
      "Digite o seu nome: Jan Nicolas Tenorio Vieira Lima\n",
      "AMIL ARIEIV OIRONET SALOCIN NAJ\n"
     ]
    }
   ],
   "source": [
    "nome = input('Digite o seu nome: ')\n",
    "inverter = nome[::-1].upper()\n",
    "\n",
    "print(inverter)"
   ]
  },
  {
   "cell_type": "markdown",
   "metadata": {},
   "source": [
    "#### 11. Faça um programa que solicite a data de nascimento (dd/mm/aaaa) do usuário e imprima a data com o nome do mês por extenso. Exemplo:\n",
    "#### Data de Nascimento: 29/10/1973\n",
    "#### Você nasceu em 29 de Outubro de 1973.\n",
    "#### Obs.: Não use desvio condicional nem loops."
   ]
  },
  {
   "cell_type": "code",
   "execution_count": 8,
   "metadata": {},
   "outputs": [
    {
     "name": "stdout",
     "output_type": "stream",
     "text": [
      "Digite sua data de nascimento completo. Exemplo: 29/10/1973.:31/05/1994\n",
      "Você nasceu em 31 de maio de 1994.\n"
     ]
    }
   ],
   "source": [
    "data = input('Digite sua data de nascimento completo. Exemplo: 29/10/1973.:')\n",
    "meses = ['janeiro','fevereiro','março','abril','maio','junho','julho','agosto','setembro','outubro','novembro','dezembro']\n",
    "dia, mes, ano = data.split(\"/\")\n",
    "mes = meses[int(mes) - 1]\n",
    "\n",
    "print(f'Você nasceu em {dia} de {mes} de {ano}.')"
   ]
  },
  {
   "cell_type": "markdown",
   "metadata": {},
   "source": [
    "#### 12. Leet é uma forma de se escrever o alfabeto latino usando outros símbolos em lugar das letras, como números por exemplo. A própria palavra leet admite muitas variações, como l33t ou 1337. O uso do leet reflete uma subcultura relacionada ao mundo dos jogos de computador e internet, sendo muito usada para confundir os iniciantes e afirmar-se como parte de um grupo. Pesquise sobre as principais formas de traduzir as letras. Depois, faça um programa que peça uma texto e transforme-o para a grafia leet speak."
   ]
  },
  {
   "cell_type": "code",
   "execution_count": 9,
   "metadata": {},
   "outputs": [
    {
     "name": "stdout",
     "output_type": "stream",
     "text": [
      "Digite uma frase aleatória:Absolutamente não confie em esquilos.\n",
      "A frase traduzida para leet é: Aß§ö£u7ä^^ë//7ë //ãö ¢ö//fïë ë^^ ë§quï£ö§.\n"
     ]
    }
   ],
   "source": [
    "leet = input('Digite uma frase aleatória:')\n",
    "\n",
    "leet = leet.replace('a','ä')\n",
    "leet = leet.replace('b','ß')\n",
    "leet = leet.replace('c','¢')\n",
    "leet = leet.replace('d','I>')\n",
    "leet = leet.replace('e','ë')\n",
    "leet = leet.replace('g','6')\n",
    "leet = leet.replace('h','#')\n",
    "leet = leet.replace('i','ï')\n",
    "leet = leet.replace('j','j')\n",
    "leet = leet.replace('l','£')\n",
    "leet = leet.replace('m','^^')\n",
    "leet = leet.replace('n','//')\n",
    "leet = leet.replace('o','ö')\n",
    "leet = leet.replace('p','p')\n",
    "leet = leet.replace('r','Я')\n",
    "leet = leet.replace('s','§')\n",
    "leet = leet.replace('t','7')\n",
    "leet = leet.replace('x','><')\n",
    "\n",
    "print(f'A frase traduzida para leet é: {leet}')"
   ]
  },
  {
   "cell_type": "code",
   "execution_count": null,
   "metadata": {},
   "outputs": [],
   "source": []
  }
 ],
 "metadata": {
  "kernelspec": {
   "display_name": "Python 3",
   "language": "python",
   "name": "python3"
  },
  "language_info": {
   "codemirror_mode": {
    "name": "ipython",
    "version": 3
   },
   "file_extension": ".py",
   "mimetype": "text/x-python",
   "name": "python",
   "nbconvert_exporter": "python",
   "pygments_lexer": "ipython3",
   "version": "3.7.4"
  }
 },
 "nbformat": 4,
 "nbformat_minor": 2
}
