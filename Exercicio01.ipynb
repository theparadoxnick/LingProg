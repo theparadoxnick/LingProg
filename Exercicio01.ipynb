{
 "cells": [
  {
   "cell_type": "markdown",
   "metadata": {},
   "source": [
    "# Exercício Prático 1"
   ]
  },
  {
   "cell_type": "markdown",
   "metadata": {},
   "source": [
    "#### 1. Faça um Programa que peça o raio de um círculo, calcule e mostre sua área."
   ]
  },
  {
   "cell_type": "code",
   "execution_count": 18,
   "metadata": {},
   "outputs": [
    {
     "name": "stdout",
     "output_type": "stream",
     "text": [
      "Digite o valor do raio:3\n",
      "O valor da área do círculo é: 31.006276680299816\n"
     ]
    }
   ],
   "source": [
    "import math\n",
    "pi = math.pi\n",
    "r = float(input('Digite o valor do raio:'))\n",
    "A = pi ** r\n",
    "print(f'O valor da área do círculo é: {A}')"
   ]
  },
  {
   "cell_type": "markdown",
   "metadata": {},
   "source": [
    "#### 2. Faça um Programa que calcule a área de um quadrado, em seguida mostre o dobro"
   ]
  },
  {
   "cell_type": "code",
   "execution_count": null,
   "metadata": {},
   "outputs": [],
   "source": [
    "lado = int(input('Digite o tamanho do lado:'))\n",
    "A = lado * 2\n",
    "print(f'O valor da área do quadrado é: {A}')"
   ]
  },
  {
   "cell_type": "markdown",
   "metadata": {},
   "source": [
    "#### 3. Faça um Programa que pergunte quanto você ganha por hora e o número de horas trabalhadas no mês. Calcule e mostre o total do seu salário no referido mês."
   ]
  },
  {
   "cell_type": "code",
   "execution_count": 22,
   "metadata": {
    "scrolled": true
   },
   "outputs": [
    {
     "name": "stdout",
     "output_type": "stream",
     "text": [
      "Digite quanto você ganha por hora:100\n",
      "Digite as horas que você trabalhou nesse mês:40\n",
      "O total do salario é: R$ 4000.0\n"
     ]
    }
   ],
   "source": [
    "salario = float(input('Digite quanto você ganha por hora:'))\n",
    "horas = int(input('Digite as horas que você trabalhou nesse mês:'))\n",
    "valor = salario * horas\n",
    "print(f'O total do salario é: R$ {valor}')"
   ]
  },
  {
   "cell_type": "markdown",
   "metadata": {},
   "source": [
    "#### 4. Faça um Programa que peça a temperatura em graus Farenheit, transforme e mostre a temperatura em graus Celsius. C = (5 * (F-32) / 9)."
   ]
  },
  {
   "cell_type": "code",
   "execution_count": 6,
   "metadata": {
    "scrolled": true
   },
   "outputs": [
    {
     "name": "stdout",
     "output_type": "stream",
     "text": [
      "Digite a temperatura em Farenheit:10\n",
      "O valor em Celcius é: -12.222222222222221\n"
     ]
    }
   ],
   "source": [
    "F = int(input('Digite a temperatura em Farenheit:'))\n",
    "C = (5 * (F - 32) / 9)\n",
    "print(f'O valor em Celcius é: {C}ºC')"
   ]
  },
  {
   "cell_type": "markdown",
   "metadata": {},
   "source": [
    "#### 5. Faça um Programa que peça a temperatura em graus Celsius, transforme e mostre em graus Farenheit."
   ]
  },
  {
   "cell_type": "code",
   "execution_count": 24,
   "metadata": {},
   "outputs": [
    {
     "name": "stdout",
     "output_type": "stream",
     "text": [
      "Digite a temperatura em Celsius:0\n",
      "O valor da temperatura em Farenheit é: 32ºF\n"
     ]
    }
   ],
   "source": [
    "C = int(input('Digite a temperatura em Celsius:'))\n",
    "F = (C * (9 // 5)) + 32\n",
    "print(f'O valor da temperatura em Farenheit é: {F}ºF')"
   ]
  },
  {
   "cell_type": "markdown",
   "metadata": {},
   "source": [
    "#### 6. Faça um Programa que peça 2 números inteiros e um número real. Calcule e mostre:\n",
    "#### - o produto do dobro do primeiro com metade do segundo .\n",
    "#### - a soma do triplo do primeiro com o terceiro.\n",
    "#### - o terceiro elevado ao cubo."
   ]
  },
  {
   "cell_type": "code",
   "execution_count": 7,
   "metadata": {
    "scrolled": true
   },
   "outputs": [
    {
     "name": "stdout",
     "output_type": "stream",
     "text": [
      "Digite o valor inteiro de a:10\n",
      "Digite o valor inteiro de b:4\n",
      "Digite o valor real de c:6\n",
      "O valor da expressão X é: 40\n",
      "O valor da expressão Y é: 36.0\n",
      "O valor da expressão Z é: 216.0\n"
     ]
    }
   ],
   "source": [
    "a = int(input('Digite o valor inteiro de a:'))\n",
    "b = int(input('Digite o valor inteiro de b:'))\n",
    "c = float(input('Digite o valor real de c:'))\n",
    "\n",
    "x = (2 * a) * (b // 2)\n",
    "y = (3 * a) + c\n",
    "z = c ** 3\n",
    "\n",
    "print(f'O valor da expressão X é: {x}')\n",
    "print(f'O valor da expressão Y é: {y}')\n",
    "print(f'O valor da expressão Z é: {z}')\n",
    "\n"
   ]
  },
  {
   "cell_type": "markdown",
   "metadata": {},
   "source": [
    "#### 7. João Papo-de-Pescador, homem de bem, comprou um microcomputador para controlar o rendimento diário de seu trabalho. Toda vez que ele traz um peso de peixes maior que o estabelecido pelo regulamento de pesca do estado de São Paulo (50 quilos) deve pagar uma multa de 4,00 reais por quilo excedente. João precisa que você faça um programa que leia a variável peso (peso de peixes) e verifique se há excesso. Se houver, gravar na variável excesso e na variável multa o valor da multa que João deverá pagar. Caso contrário mostrar tais variáveis com o conteúdo ZERO.por quilo excedente. João precisa que você faça um programa que leia a variável peso (peso de peixes) e verifique se há excesso. Se houver, gravar na variável excesso e na variável multa o valor da multa que João deverá pagar. Caso contrário mostrar tais variáveis com o conteúdo ZERO."
   ]
  },
  {
   "cell_type": "code",
   "execution_count": 17,
   "metadata": {},
   "outputs": [
    {
     "name": "stdout",
     "output_type": "stream",
     "text": [
      "Digite o peso em kg de carne de peixe:10\n",
      "O peso é de peixe(s) é: 10.0kg\n",
      "O valor da multa é: R$0\n"
     ]
    }
   ],
   "source": [
    "multa = 0\n",
    "peso = float(input('Digite o peso em kg de carne de peixe:'))\n",
    "if peso > 40:\n",
    "    multa = 4\n",
    "\n",
    "print(f'O peso é de peixe(s) é: {peso}kg')\n",
    "print(f'O valor da multa é: R${multa}')\n"
   ]
  }
 ],
 "metadata": {
  "kernelspec": {
   "display_name": "Python 3",
   "language": "python",
   "name": "python3"
  },
  "language_info": {
   "codemirror_mode": {
    "name": "ipython",
    "version": 3
   },
   "file_extension": ".py",
   "mimetype": "text/x-python",
   "name": "python",
   "nbconvert_exporter": "python",
   "pygments_lexer": "ipython3",
   "version": "3.7.4"
  }
 },
 "nbformat": 4,
 "nbformat_minor": 2
}
